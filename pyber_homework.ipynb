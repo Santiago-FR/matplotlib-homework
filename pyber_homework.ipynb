{
 "cells": [
  {
   "cell_type": "raw",
   "metadata": {},
   "source": [
    "PYBER ANALISYS\n",
    "\n",
    "Regarding Fares:\n",
    "\n",
    "Although urban cities have more drivers and complete more rides the average fare price is lower compared to Suburban and rural cities, regardless of that fact, they bring in 62.7% of Pyber total fares.\n",
    "\n",
    "Suburban cities account for jut over 26% of total Pyber rides and account for 30% of total Pyber fares. \n",
    "\n",
    "Rural cities have the highest average fares however, they account for only just over 5% of the Total Pyber rides.\n",
    "\n",
    "Urban cities have more drivers, rides and account for the majority of Pyber fares. The most noticeable trend points to population density being the factor behind the difference of rides, drivers and fare collection between the three city types. \n"
   ]
  },
  {
   "cell_type": "code",
   "execution_count": 1,
   "metadata": {},
   "outputs": [],
   "source": [
    "%matplotlib inline\n",
    "# Dependencies and Setup\n",
    "import matplotlib.pyplot as plt\n",
    "import pandas as pd\n",
    "import numpy as np"
   ]
  },
  {
   "cell_type": "code",
   "execution_count": 2,
   "metadata": {},
   "outputs": [],
   "source": [
    "# File to Load (Remember to change these)\n",
    "city_data_to_load = \"data/city_data.csv\"\n",
    "ride_data_to_load = \"data/ride_data.csv\""
   ]
  },
  {
   "cell_type": "code",
   "execution_count": 9,
   "metadata": {},
   "outputs": [
    {
     "data": {
      "text/html": [
       "<div>\n",
       "<style scoped>\n",
       "    .dataframe tbody tr th:only-of-type {\n",
       "        vertical-align: middle;\n",
       "    }\n",
       "\n",
       "    .dataframe tbody tr th {\n",
       "        vertical-align: top;\n",
       "    }\n",
       "\n",
       "    .dataframe thead th {\n",
       "        text-align: right;\n",
       "    }\n",
       "</style>\n",
       "<table border=\"1\" class=\"dataframe\">\n",
       "  <thead>\n",
       "    <tr style=\"text-align: right;\">\n",
       "      <th></th>\n",
       "      <th>city</th>\n",
       "      <th>date</th>\n",
       "      <th>fare</th>\n",
       "      <th>ride_id</th>\n",
       "      <th>driver_count</th>\n",
       "      <th>type</th>\n",
       "    </tr>\n",
       "  </thead>\n",
       "  <tbody>\n",
       "    <tr>\n",
       "      <th>0</th>\n",
       "      <td>Lake Jonathanshire</td>\n",
       "      <td>2018-01-14 10:14:22</td>\n",
       "      <td>13.83</td>\n",
       "      <td>5739410935873</td>\n",
       "      <td>5</td>\n",
       "      <td>Urban</td>\n",
       "    </tr>\n",
       "    <tr>\n",
       "      <th>1</th>\n",
       "      <td>Lake Jonathanshire</td>\n",
       "      <td>2018-04-07 20:51:11</td>\n",
       "      <td>31.25</td>\n",
       "      <td>4441251834598</td>\n",
       "      <td>5</td>\n",
       "      <td>Urban</td>\n",
       "    </tr>\n",
       "    <tr>\n",
       "      <th>2</th>\n",
       "      <td>Lake Jonathanshire</td>\n",
       "      <td>2018-03-09 23:45:55</td>\n",
       "      <td>19.89</td>\n",
       "      <td>2389495660448</td>\n",
       "      <td>5</td>\n",
       "      <td>Urban</td>\n",
       "    </tr>\n",
       "    <tr>\n",
       "      <th>3</th>\n",
       "      <td>Lake Jonathanshire</td>\n",
       "      <td>2018-04-07 18:09:21</td>\n",
       "      <td>24.28</td>\n",
       "      <td>7796805191168</td>\n",
       "      <td>5</td>\n",
       "      <td>Urban</td>\n",
       "    </tr>\n",
       "    <tr>\n",
       "      <th>4</th>\n",
       "      <td>Lake Jonathanshire</td>\n",
       "      <td>2018-01-02 14:14:50</td>\n",
       "      <td>13.89</td>\n",
       "      <td>424254840012</td>\n",
       "      <td>5</td>\n",
       "      <td>Urban</td>\n",
       "    </tr>\n",
       "  </tbody>\n",
       "</table>\n",
       "</div>"
      ],
      "text/plain": [
       "                 city                 date   fare        ride_id  \\\n",
       "0  Lake Jonathanshire  2018-01-14 10:14:22  13.83  5739410935873   \n",
       "1  Lake Jonathanshire  2018-04-07 20:51:11  31.25  4441251834598   \n",
       "2  Lake Jonathanshire  2018-03-09 23:45:55  19.89  2389495660448   \n",
       "3  Lake Jonathanshire  2018-04-07 18:09:21  24.28  7796805191168   \n",
       "4  Lake Jonathanshire  2018-01-02 14:14:50  13.89   424254840012   \n",
       "\n",
       "   driver_count   type  \n",
       "0             5  Urban  \n",
       "1             5  Urban  \n",
       "2             5  Urban  \n",
       "3             5  Urban  \n",
       "4             5  Urban  "
      ]
     },
     "execution_count": 9,
     "metadata": {},
     "output_type": "execute_result"
    }
   ],
   "source": [
    "# Read the City and Ride Data\n",
    "city_data = pd.read_csv(city_data_to_load)\n",
    "ride_data = pd.read_csv(ride_data_to_load)\n",
    "# Combine the data into a single dataset\n",
    "combined_df = pd.merge(ride_data, city_data,on='city')\n",
    "# Display the data table for preview\n",
    "combined_df.head()"
   ]
  },
  {
   "cell_type": "markdown",
   "metadata": {},
   "source": [
    "## Bubble Plot of Ride Sharing Data"
   ]
  },
  {
   "cell_type": "code",
   "execution_count": 10,
   "metadata": {},
   "outputs": [],
   "source": [
    "# Obtain the x and y coordinates for each of the three city types |average fare($)| Total NUmber of Riders (Per City)\n",
    "unique_driver_count_df = combined_df.drop([\"date\", \"fare\",\"ride_id\"], axis=1)\n",
    "unique_driver_count_df = unique_driver_count_df.drop_duplicates(subset=\"city\", keep= 'first', inplace=False)"
   ]
  },
  {
   "cell_type": "code",
   "execution_count": 25,
   "metadata": {},
   "outputs": [
    {
     "data": {
      "text/plain": [
       "city\n",
       "Bradshawfurt         7\n",
       "Garzaport            7\n",
       "Harringtonfort       4\n",
       "Jessicaport          1\n",
       "Lake Jamie           4\n",
       "Lake Latoyabury      2\n",
       "Michaelberg          6\n",
       "New Ryantown         2\n",
       "Newtonview           1\n",
       "North Holly          8\n",
       "North Jaime          1\n",
       "Penaborough          6\n",
       "Randallchester       9\n",
       "South Jennifer       7\n",
       "South Marychester    1\n",
       "South Saramouth      7\n",
       "Taylorhaven          1\n",
       "West Heather         4\n",
       "Name: driver_count, dtype: int64"
      ]
     },
     "execution_count": 25,
     "metadata": {},
     "output_type": "execute_result"
    }
   ],
   "source": [
    "s_urban_df = unique_driver_count_df.loc[combined_df['type'] == \"Urban\"]\n",
    "urban_s= s_urban_df.groupby([\"city\"]).mean()['driver_count']\n",
    "s_suburban_df = unique_driver_count_df.loc[combined_df['type'] == \"Suburban\"]\n",
    "suburban_s= s_suburban_df.groupby([\"city\"]).mean()['driver_count']\n",
    "s_rural_df = unique_driver_count_df.loc[combined_df['type'] == \"Rural\"]\n",
    "rural_s = s_rural_df.groupby([\"city\"]).mean()['driver_count']\n",
    "rural_s\n",
    "# urban_s = pd.DataFrame(s_urban_df[\"driver_count\"])\n",
    "# suburban_s = pd.DataFrame(s_suburban_df[\"driver_count\"])\n",
    "# rural_s = pd.DataFrame(s_rural_df[[\"driver_count\"]])\n",
    "# rural_s"
   ]
  },
  {
   "cell_type": "code",
   "execution_count": 26,
   "metadata": {},
   "outputs": [],
   "source": [
    "urban_df = combined_df.loc[combined_df['type'] == \"Urban\"]\n",
    "urban_df.describe();\n",
    "urban_grouped_df = urban_df.groupby(\"city\")\n",
    "urban_x = urban_grouped_df[\"ride_id\"].count()\n",
    "urban_x.head()\n",
    "urban_y = pd.DataFrame(urban_grouped_df[\"fare\"].mean()).round()\n",
    "urban_y.head();"
   ]
  },
  {
   "cell_type": "code",
   "execution_count": 27,
   "metadata": {},
   "outputs": [],
   "source": [
    "suburban_df = combined_df.loc[combined_df['type'] == \"Suburban\"]\n",
    "suburban_df.describe();\n",
    "suburban_grouped_df = suburban_df.groupby(\"city\")\n",
    "suburban_x = suburban_grouped_df[\"ride_id\"].count()\n",
    "suburban_x.head()\n",
    "suburban_y = pd.DataFrame(suburban_grouped_df[\"fare\"].mean()).round()\n",
    "suburban_y.head();\n",
    "# suburban_s ="
   ]
  },
  {
   "cell_type": "code",
   "execution_count": 23,
   "metadata": {},
   "outputs": [],
   "source": [
    "rural_df = combined_df.loc[combined_df['type'] == \"Rural\"]\n",
    "rural_df.describe();\n",
    "rural_df.describe();\n",
    "rural_grouped_df = rural_df.groupby(\"city\")\n",
    "rural_x = rural_grouped_df[\"ride_id\"].count()\n",
    "rural_x.head()\n",
    "rural_y = pd.DataFrame(rural_grouped_df[\"fare\"].mean()).round()\n",
    "rural_y.head();\n",
    "# rural_s = "
   ]
  },
  {
   "cell_type": "code",
   "execution_count": 24,
   "metadata": {},
   "outputs": [
    {
     "data": {
      "image/png": "[encoded data removed]",
      "text/plain": [
       "<Figure size 432x288 with 1 Axes>"
      ]
     },
     "metadata": {
      "needs_background": "light"
     },
     "output_type": "display_data"
    }
   ],
   "source": [
    "plt.scatter(urban_x, urban_y, s = urban_s*10, c = \"coral\", marker = \"o\", alpha = 0.8, edgecolors = \"black\", label = \"Urban\")\n",
    "plt.scatter(suburban_x, suburban_y, s = suburban_s*10 , c = \"lightblue\", marker = \"o\", alpha = 0.8, edgecolors = \"black\", label = \"Suburban\")\n",
    "plt.scatter(rural_x, rural_y, s = rural_s*10 , c = \"gold\", marker = \"o\", alpha = 0.8, edgecolors = \"black\", label = \"Rural\")\n",
    "\n",
    "plt.title(\"Pyber Ride Sharing Data (2016)\")\n",
    "plt.xlabel(\"Total Number of Rides (Per City)\")\n",
    "plt.ylabel(\"Average fare ($)\")\n",
    "plt.grid(color = \"grey\", linestyle = \"-\", linewidth = 1)\n",
    "\n",
    "lgnd = plt.legend(title = \"City Types\", fontsize = \"small\", fancybox = True)\n",
    "lgnd.legendHandles[0]._sizes = [32]\n",
    "lgnd.legendHandles[1]._sizes = [32]\n",
    "lgnd.legendHandles[2]._sizes = [32]\n",
    "\n",
    "plt.text(43,37, \"Note:\")\n",
    "plt.text(43,35, \"Circle size correaltes\")\n",
    "plt.text(43,33, \"with driver count per city.\")\n",
    "plt.savefig(\"bubble.png\")\n",
    "plt.show()"
   ]
  },
  {
   "cell_type": "markdown",
   "metadata": {},
   "source": [
    "## Total Fares by City Type"
   ]
  },
  {
   "cell_type": "code",
   "execution_count": null,
   "metadata": {},
   "outputs": [],
   "source": [
    "# Calculate Type Percents\n",
    "pie_df = combined_df.groupby(\"type\").sum()\n",
    "totals_df = pd.DataFrame(pie_df[\"fare\"])\n",
    "totals_df[\"fare\"]\n",
    "totals_df[\"percentage\"]= totals_df[\"fare\"] /totals_df[\"fare\"].sum()\n",
    "totals_df"
   ]
  },
  {
   "cell_type": "code",
   "execution_count": null,
   "metadata": {},
   "outputs": [],
   "source": [
    "# Labels \n",
    "labels = [\"Rural\", \"Suburban\", \"Urban\"]\n",
    "\n",
    "# Values\n",
    "sizes = [4304.93, 19356.33, 39854.38 ]\n",
    "# The colors of each section of the pie chart\n",
    "colors = [\"gold\",\"lightskyblue\",\"lightcoral\"]\n",
    "\n",
    "explode = (0, 0, 0.1)\n",
    "\n",
    "plt.pie(sizes, labels=labels, explode = explode, autopct=\"%1.1f%%\", colors=colors, shadow=True, startangle=140)\n",
    "\n",
    "plt.title(\"% of Total Fares by City Type\")\n",
    "plt.axis(\"equal\")\n",
    "# Save Figure\n",
    "plt.savefig(\"Fare pie.png\")\n",
    "plt.show()"
   ]
  },
  {
   "cell_type": "markdown",
   "metadata": {},
   "source": [
    "## Total Rides by City Type"
   ]
  },
  {
   "cell_type": "code",
   "execution_count": null,
   "metadata": {},
   "outputs": [],
   "source": [
    "# Calculate Type Percents\n",
    "r_pie_df = combined_df.groupby(\"type\").count()\n",
    "total_rides = r_pie_df[\"fare\"].sum()\n",
    "r_pie_df[\"percentage\"]= r_pie_df[\"fare\"] /total_rides\n",
    "r_pie_df"
   ]
  },
  {
   "cell_type": "code",
   "execution_count": null,
   "metadata": {},
   "outputs": [],
   "source": [
    "\n",
    "labels = [\"Rural\", \"Suburban\", \"Urban\"]\n",
    "sizes = [0.052632, 0.263158, 0.684211]\n",
    "colors = [\"gold\",\"lightskyblue\",\"lightcoral\"]\n",
    "explode = (0, 0, 0.1)\n",
    "\n",
    "plt.pie(sizes, labels=labels, explode = explode, autopct=\"%1.1f%%\", colors=colors, shadow=True, startangle=140)\n",
    "# Save Figure\n",
    "plt.title(\"% of Total Rides by City Type\")\n",
    "plt.axis(\"equal\")\n",
    "# Save Figure\n",
    "plt.savefig(\"rides pie.png\")\n",
    "plt.show()"
   ]
  },
  {
   "cell_type": "markdown",
   "metadata": {},
   "source": [
    "## Total Drivers by City Type"
   ]
  },
  {
   "cell_type": "code",
   "execution_count": null,
   "metadata": {},
   "outputs": [],
   "source": [
    "unique_driver_count_df = combined_df.drop([\"date\", \"fare\",\"ride_id\"], axis=1)\n",
    "unique_driver_count_df = unique_driver_count_df.drop_duplicates(subset=\"city\", keep= 'first', inplace=False)\n",
    "\n",
    "\n",
    "u_urban_df = unique_driver_count_df.loc[combined_df['type'] == \"Urban\"]\n",
    "u_driver_df = u_urban_df.groupby(\"type\").sum()\n",
    "\n",
    "su_suburban_df = unique_driver_count_df.loc[combined_df['type'] == \"Suburban\"]\n",
    "su_driver_df = su_suburban_df.groupby(\"type\").sum()\n",
    "\n",
    "r_rural_df = unique_driver_count_df.loc[combined_df['type'] == \"Rural\"]\n",
    "r_driver_df = r_rural_df.groupby(\"type\").sum()\n",
    "\n"
   ]
  },
  {
   "cell_type": "code",
   "execution_count": null,
   "metadata": {},
   "outputs": [],
   "source": [
    "# u_driver_df,su_driver_df,r_driver_df\n",
    "\n",
    "labels = [\"Rural\", \"Suburban\", \"Urban\"]\n",
    "sizes = [78, 490, 2405]\n",
    "colors = [\"gold\",\"lightskyblue\",\"lightcoral\"]\n",
    "explode = (0, 0, 0.1)\n",
    "\n",
    "plt.pie(sizes, labels=labels, explode = explode, autopct=\"%1.1f%%\", colors=colors, shadow=True, startangle=140)\n",
    "# Save Figure\n",
    "plt.title(\"% of Total Drivers by City Type\")\n",
    "plt.axis(\"equal\")\n",
    "plt.savefig(\"drivers pie.png\")\n",
    "plt.show()"
   ]
  }
 ],
 "metadata": {
  "kernelspec": {
   "display_name": "Python 3",
   "language": "python",
   "name": "python3"
  },
  "language_info": {
   "codemirror_mode": {
    "name": "ipython",
    "version": 3
   },
   "file_extension": ".py",
   "mimetype": "text/x-python",
   "name": "python",
   "nbconvert_exporter": "python",
   "pygments_lexer": "ipython3",
   "version": "3.7.1"
  }
 },
 "nbformat": 4,
 "nbformat_minor": 2
}
